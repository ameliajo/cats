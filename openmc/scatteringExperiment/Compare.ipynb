{
 "cells": [
  {
   "cell_type": "code",
   "execution_count": 44,
   "metadata": {},
   "outputs": [],
   "source": [
    "import openmc\n",
    "import matplotlib.pyplot as plt\n",
    "import matplotlib.figure\n",
    "import numpy as np"
   ]
  },
  {
   "cell_type": "code",
   "execution_count": 45,
   "metadata": {},
   "outputs": [],
   "source": [
    "def getArray(leakDF):\n",
    "    leakOut = leakDF.loc[leakDF[\"mesh 1\"][\"surf\"] == \"x-max out\"]\n",
    "\n",
    "    firstEntry = leakOut.loc[leakOut[\"mesh 1\"][\"x\"] == 1].loc[leakOut[\"mesh 1\"][\"y\"] == 1]\n",
    "    EVals   = list(firstEntry[\"energy low [eV]\"]) + [list(firstEntry[\"energy high [eV]\"])[-1]]\n",
    "    eMidVec = [(EVals[i]+EVals[i+1])*0.5 for i in range(len(EVals)-1)]\n",
    "\n",
    "    array = np.zeros((len(eMidVec),max(list(leakOut[\"mesh 1\"][\"y\"]))))\n",
    "    for i,eMid in enumerate(eMidVec):\n",
    "        E_specific = leakOut.loc[leakOut[\"energy low [eV]\"] < eMid]\\\n",
    "                            .loc[leakOut[\"energy high [eV]\"] > eMid]\n",
    "        if list(E_specific[\"energy low [eV]\"])[0] <= 1.0 and \\\n",
    "           list(E_specific[\"energy high [eV]\"])[0] >= 1.0: continue\n",
    "        array[i] = E_specific[\"mean\"]\n",
    "    return array,eMidVec"
   ]
  },
  {
   "cell_type": "code",
   "execution_count": 46,
   "metadata": {},
   "outputs": [],
   "source": [
    "def plotArray(array,vmax=None):\n",
    "    fig, ax = plt.subplots(1,1,figsize=(8,8))\n",
    "    if vmax:\n",
    "        plt.imshow(array,cmap='hot',extent=[-1,1,-1,1],vmin=0,vmax=vmax)\n",
    "    else:\n",
    "        plt.imshow(array,cmap='hot',extent=[-1,1,-1,1])\n",
    "    plt.ylabel('Energy [eV]')\n",
    "    plt.xlabel('Space [normalized]')\n",
    "    desiredEPoints = np.linspace(0.0,1.2,13)\n",
    "    desiredEPoints_shifted = [2*val/max(desiredEPoints) - 1.0 for val in desiredEPoints]\n",
    "    desiredEPoints = ['%.1f'%val for val in desiredEPoints]\n",
    "    ax.set_yticks(desiredEPoints_shifted);\n",
    "    ax.set_yticklabels(desiredEPoints[::-1]);\n",
    "    "
   ]
  },
  {
   "cell_type": "code",
   "execution_count": null,
   "metadata": {},
   "outputs": [],
   "source": []
  },
  {
   "cell_type": "code",
   "execution_count": 47,
   "metadata": {},
   "outputs": [],
   "source": [
    "runs = ['400 No Sab',\n",
    "        '400 True',\n",
    "        '400 Wrong Dos 800',      # Use 800K phonon DOS for 400K\n",
    "       ]\n",
    "names = [string.replace(' ','-') for string in runs]\n",
    "\n",
    "# numESpaceFilters = [\\\n",
    "#                     [100,100],\n",
    "#                     [10,10],\n",
    "#                     [30,10],\n",
    "#                     [50,70],\n",
    "#                    ]\n",
    "batchesVec = [5,10,20]\n",
    "\n",
    "\n",
    "filterPair = [50,70]\n",
    "\n",
    "particles = 1e7\n",
    "#batches = 10\n",
    "\n",
    "largeWidth = 1e-5\n",
    "\n",
    "diff_noSAB_True     = []\n",
    "diff_True_WrongSAB  = []\n",
    "diff_noSAB_WrongSAB = []\n",
    "\n",
    "for batches in batchesVec:\n",
    "    leakDF_vec = []\n",
    "    for name in names:\n",
    "        numEFilter,numSpaceFilter = filterPair\n",
    "\n",
    "        runName = 'Filters__E'+str(numEFilter)+'_Space'+str(numSpaceFilter)\n",
    "        pathName = 'b'+str(int(batches))+'_p'+('%.0e'%particles).replace('+0','')+'_'+name.replace('-','_')\n",
    "\n",
    "        sp = openmc.StatePoint('Results/'+runName+'/'+pathName+'/statepoint.'+str(batches)+'.h5')\n",
    "        leakDF  = sp.get_tally(name='thermal leakage').get_pandas_dataframe()\n",
    "        leakDF_vec.append(leakDF)\n",
    "        \n",
    "    leakDF0  = leakDF_vec[0]\n",
    "    leakDF1  = leakDF_vec[1]\n",
    "    leakDF2  = leakDF_vec[2]\n",
    "\n",
    "    array0,Evals0 = getArray(leakDF0)\n",
    "    array1,Evals1 = getArray(leakDF1)\n",
    "    array2,Evals2 = getArray(leakDF2)\n",
    "\n",
    "    # plotArray(array0)\n",
    "    # plotArray(array1)\n",
    "    # plotArray(array2)\n",
    "    \n",
    "\n",
    "    error12 = np.divide(abs(array1-array2), array1, # This will only divide when\n",
    "                        out=np.zeros_like(array1),  # value in array1 != 0\n",
    "                        where=array1!=0)            # # This is giving rel. error\n",
    "    error01 = np.divide(abs(array0-array1), array0, # This will only divide when\n",
    "                        out=np.zeros_like(array0),  # value in array1 != 0\n",
    "                        where=array0!=0)            # # This is giving rel. error\n",
    "    error02 = np.divide(abs(array0-array2), array0, # This will only divide when\n",
    "                        out=np.zeros_like(array1),  # value in array1 != 0\n",
    "                        where=array0!=0)            # # This is giving rel. error\n",
    "\n",
    "    integratedError12 = np.trapz(np.trapz(error12,x=np.linspace(0,largeWidth,numSpaceFilter)),x=Evals1)\n",
    "    integratedError01 = np.trapz(np.trapz(error01,x=np.linspace(0,largeWidth,numSpaceFilter)),x=Evals1)\n",
    "    integratedError02 = np.trapz(np.trapz(error02,x=np.linspace(0,largeWidth,numSpaceFilter)),x=Evals1)\n",
    "    diff_True_WrongSAB.append(integratedError12)\n",
    "    diff_noSAB_True.append(integratedError01)\n",
    "    diff_noSAB_WrongSAB.append(integratedError02)"
   ]
  },
  {
   "cell_type": "code",
   "execution_count": 48,
   "metadata": {},
   "outputs": [
    {
     "data": {
      "text/plain": [
       "Text(0.5, 0, 'Num Batches')"
      ]
     },
     "execution_count": 48,
     "metadata": {},
     "output_type": "execute_result"
    },
    {
     "data": {
      "image/png": "[encoded data removed]",
      "text/plain": [
       "<Figure size 432x288 with 1 Axes>"
      ]
     },
     "metadata": {
      "needs_background": "light"
     },
     "output_type": "display_data"
    }
   ],
   "source": [
    "plt.plot(batchesVec,diff_noSAB_True,'o-')\n",
    "plt.plot(batchesVec,diff_noSAB_WrongSAB,'o-')\n",
    "plt.plot(batchesVec,diff_True_WrongSAB,'o-')\n",
    "plt.yscale('log')\n",
    "plt.xlabel('Num Batches')"
   ]
  },
  {
   "cell_type": "code",
   "execution_count": null,
   "metadata": {},
   "outputs": [],
   "source": []
  },
  {
   "cell_type": "code",
   "execution_count": null,
   "metadata": {},
   "outputs": [],
   "source": []
  },
  {
   "cell_type": "code",
   "execution_count": null,
   "metadata": {},
   "outputs": [],
   "source": []
  },
  {
   "cell_type": "code",
   "execution_count": null,
   "metadata": {},
   "outputs": [],
   "source": []
  },
  {
   "cell_type": "code",
   "execution_count": null,
   "metadata": {},
   "outputs": [],
   "source": []
  },
  {
   "cell_type": "code",
   "execution_count": null,
   "metadata": {},
   "outputs": [],
   "source": []
  },
  {
   "cell_type": "code",
   "execution_count": null,
   "metadata": {},
   "outputs": [],
   "source": []
  },
  {
   "cell_type": "code",
   "execution_count": null,
   "metadata": {},
   "outputs": [],
   "source": []
  },
  {
   "cell_type": "code",
   "execution_count": null,
   "metadata": {},
   "outputs": [],
   "source": []
  },
  {
   "cell_type": "code",
   "execution_count": 70,
   "metadata": {},
   "outputs": [],
   "source": [
    "runs = ['400 No Sab',\n",
    "        '400 True',\n",
    "        '400 Wrong Dos 800',      # Use 800K phonon DOS for 400K\n",
    "       ]\n",
    "names = [string.replace(' ','-') for string in runs]\n",
    "\n",
    "filterPairs = [[10,10],[20,20],[40,40],[60,60],[80,80],[100,100],[120,120]]\n",
    "particles = 5e7\n",
    "batches = 10\n",
    "\n",
    "largeWidth = 1e-5\n",
    "\n",
    "diff_noSAB_True     = []\n",
    "diff_True_WrongSAB  = []\n",
    "diff_noSAB_WrongSAB = []\n",
    "\n",
    "for filterPair in filterPairs:\n",
    "    leakDF_vec = []\n",
    "    for name in names:\n",
    "        numEFilter,numSpaceFilter = filterPair\n",
    "\n",
    "        runName = 'Filters__E'+str(numEFilter)+'_Space'+str(numSpaceFilter)\n",
    "        pathName = 'b'+str(int(batches))+'_p'+('%.0e'%particles).replace('+0','')+'_'+name.replace('-','_')\n",
    "\n",
    "        sp = openmc.StatePoint('Results/'+runName+'/'+pathName+'/statepoint.'+str(batches)+'.h5')\n",
    "        leakDF  = sp.get_tally(name='thermal leakage').get_pandas_dataframe()\n",
    "        leakDF_vec.append(leakDF)\n",
    "        \n",
    "    leakDF0  = leakDF_vec[0]\n",
    "    leakDF1  = leakDF_vec[1]\n",
    "    leakDF2  = leakDF_vec[2]\n",
    "\n",
    "    array0,Evals0 = getArray(leakDF0)\n",
    "    array1,Evals1 = getArray(leakDF1)\n",
    "    array2,Evals2 = getArray(leakDF2)\n",
    "\n",
    "    error12 = np.divide(abs(array1-array2), array1, # This will only divide when\n",
    "                        out=np.zeros_like(array1),  # value in array1 != 0\n",
    "                        where=array1!=0)            # # This is giving rel. error\n",
    "    error01 = np.divide(abs(array0-array1), array0, # This will only divide when\n",
    "                        out=np.zeros_like(array0),  # value in array1 != 0\n",
    "                        where=array0!=0)            # # This is giving rel. error\n",
    "    error02 = np.divide(abs(array0-array2), array0, # This will only divide when\n",
    "                        out=np.zeros_like(array1),  # value in array1 != 0\n",
    "                        where=array0!=0)            # # This is giving rel. error\n",
    "\n",
    "    integratedError12 = np.trapz(np.trapz(error12,x=np.linspace(0,largeWidth,numSpaceFilter)),x=Evals1)\n",
    "    integratedError01 = np.trapz(np.trapz(error01,x=np.linspace(0,largeWidth,numSpaceFilter)),x=Evals1)\n",
    "    integratedError02 = np.trapz(np.trapz(error02,x=np.linspace(0,largeWidth,numSpaceFilter)),x=Evals1)\n",
    "    diff_True_WrongSAB.append(integratedError12)\n",
    "    diff_noSAB_True.append(integratedError01)\n",
    "    diff_noSAB_WrongSAB.append(integratedError02)"
   ]
  },
  {
   "cell_type": "code",
   "execution_count": 71,
   "metadata": {},
   "outputs": [
    {
     "data": {
      "text/plain": [
       "Text(0.5, 0, 'Num Energy&Spatial Filters')"
      ]
     },
     "execution_count": 71,
     "metadata": {},
     "output_type": "execute_result"
    },
    {
     "data": {
      "image/png": "[encoded data removed]",
      "text/plain": [
       "<Figure size 432x288 with 1 Axes>"
      ]
     },
     "metadata": {
      "needs_background": "light"
     },
     "output_type": "display_data"
    }
   ],
   "source": [
    "plt.plot([val[0] for val in filterPairs],diff_noSAB_True,'o-')\n",
    "plt.plot([val[0] for val in filterPairs],diff_noSAB_WrongSAB,'o-')\n",
    "plt.plot([val[0] for val in filterPairs],diff_True_WrongSAB,'o-')\n",
    "plt.yscale('log')\n",
    "plt.xlabel('Num Energy&Spatial Filters')"
   ]
  },
  {
   "cell_type": "code",
   "execution_count": null,
   "metadata": {},
   "outputs": [],
   "source": []
  },
  {
   "cell_type": "code",
   "execution_count": null,
   "metadata": {},
   "outputs": [],
   "source": []
  },
  {
   "cell_type": "code",
   "execution_count": null,
   "metadata": {},
   "outputs": [],
   "source": []
  },
  {
   "cell_type": "code",
   "execution_count": null,
   "metadata": {},
   "outputs": [],
   "source": []
  },
  {
   "cell_type": "code",
   "execution_count": null,
   "metadata": {},
   "outputs": [],
   "source": []
  },
  {
   "cell_type": "code",
   "execution_count": null,
   "metadata": {},
   "outputs": [],
   "source": []
  },
  {
   "cell_type": "code",
   "execution_count": null,
   "metadata": {},
   "outputs": [],
   "source": []
  }
 ],
 "metadata": {
  "kernelspec": {
   "display_name": "Python 3",
   "language": "python",
   "name": "python3"
  },
  "language_info": {
   "codemirror_mode": {
    "name": "ipython",
    "version": 3
   },
   "file_extension": ".py",
   "mimetype": "text/x-python",
   "name": "python",
   "nbconvert_exporter": "python",
   "pygments_lexer": "ipython3",
   "version": "3.7.8"
  }
 },
 "nbformat": 4,
 "nbformat_minor": 4
}
