{
 "cells": [
  {
   "cell_type": "code",
   "execution_count": 1,
   "metadata": {},
   "outputs": [],
   "source": [
    "import openmc\n",
    "import os\n",
    "import numpy as np\n",
    "import matplotlib.pyplot as plt\n",
    "import urllib\n",
    "import matplotlib.figure\n",
    "import pandas as pd\n",
    "njoy_exec = '/Users/ameliajo/NJOY_CLEAN/bin/njoy'\n",
    "h1_url = 'https://t2.lanl.gov/nis/data/data/ENDFB-VII.1-neutron/H/1'\n"
   ]
  },
  {
   "cell_type": "code",
   "execution_count": 2,
   "metadata": {},
   "outputs": [],
   "source": [
    "def writeMaterials(addSAB):\n",
    "    h2o = openmc.Material(name='h2o')\n",
    "    h2o.add_nuclide('H1',2)\n",
    "    h2o.add_nuclide('O16',1)\n",
    "    h2o.set_density('g/cm3',100.0)\n",
    "    h2o.temperature = 400.0\n",
    "    if addSAB:\n",
    "        h2o.add_s_alpha_beta('c_H_in_H2O')\n",
    "\n",
    "    air = openmc.Material(name='air')\n",
    "    air.add_nuclide('O16',1)\n",
    "    air.set_density('g/cm3',1e-10)\n",
    "\n",
    "    materials = openmc.Materials([h2o,air])\n",
    "    materials.export_to_xml()\n",
    "    return h2o,air"
   ]
  },
  {
   "cell_type": "code",
   "execution_count": 3,
   "metadata": {},
   "outputs": [],
   "source": [
    "def writeGeometry(h2o,air,smallWidth,largeWidth):\n",
    "\n",
    "    small_box_region2 = openmc.rectangular_prism(width=smallWidth, height=smallWidth)\n",
    "    large_box_region2 = openmc.rectangular_prism(width=largeWidth, height=largeWidth, boundary_type='vacuum')\n",
    "\n",
    "    small_box = openmc.Cell(region=small_box_region2,fill=h2o)\n",
    "    large_box = openmc.Cell(region=large_box_region2,fill=air)\n",
    "\n",
    "    universe = openmc.Universe()\n",
    "    # universe.add_cells([small_box])\n",
    "    universe.add_cells([small_box,large_box])\n",
    "\n",
    "    geometry = openmc.Geometry(universe)\n",
    "    geometry.export_to_xml()\n",
    "    # universe.plot(width=(1.1*largeWidth,1.1*largeWidth))    \n",
    "    return small_box"
   ]
  },
  {
   "cell_type": "code",
   "execution_count": null,
   "metadata": {},
   "outputs": [],
   "source": []
  },
  {
   "cell_type": "code",
   "execution_count": 4,
   "metadata": {},
   "outputs": [],
   "source": [
    "def prepThermalScatteringData(names):\n",
    "    for name in names:\n",
    "        if name == 'No-Sab':\n",
    "            continue\n",
    "        if name == '400-No-Sab':\n",
    "            continue\n",
    "        \n",
    "        if name == '600-True':\n",
    "            directory = '600/True' \n",
    "            temperatures = [600.0]  \n",
    "        elif name == '600-XS-interp-500-800':\n",
    "            directory = '600/True'\n",
    "            temperatures = [500.0,800.0]\n",
    "        elif name == '600-XS-interp-550-650':\n",
    "            directory = '600/True'\n",
    "            temperatures = [550.0,650.0]\n",
    "        elif name == '600-XS-interp-573-623':\n",
    "            directory = '600/True'\n",
    "            temperatures = [573.6,623.6]\n",
    "        elif name == '400-True':\n",
    "            directory = '400/True' \n",
    "            temperatures = [373.6,400.0,423.6]  \n",
    "        elif name == '400-XS-interp-300-500':\n",
    "            directory = '400/True'\n",
    "            temperatures = [300.0,500.0]\n",
    "        elif name == '400-XS-interp-350-450':\n",
    "            directory = '400/True'\n",
    "            temperatures = [350.0,450.0]\n",
    "        elif name == '400-XS-interp-373-423':\n",
    "            directory = '400/True'\n",
    "            temperatures = [373.6,423.6]   \n",
    "        elif name == '400-Wrong-Dos-800':\n",
    "            directory = '400/wrongDOS_800'\n",
    "            temperatures = [373.6,400.0,423.6]   \n",
    "\n",
    "        else:\n",
    "            print(name+' not found')\n",
    "            return\n",
    "\n",
    "        if not os.path.exists('h1.endf'):\n",
    "            filename, headers = urllib.request.urlretrieve(h1_url,'h1.endf')\n",
    "        if not os.path.exists('sab_h5_files/'+name+'.h5'):\n",
    "            filename = './LEAPR_OUTPUT/'+directory+'/tape24'\n",
    "            h_in_h2o = openmc.data.ThermalScattering.from_njoy(\n",
    "                'h1.endf',filename,temperatures=temperatures, \n",
    "                stdout=True, njoy_exec=njoy_exec)\n",
    "            h_in_h2o.export_to_hdf5('sab_h5_files/'+name+'.h5')\n",
    "        else:\n",
    "            print(name+' is already prepared!')\n"
   ]
  },
  {
   "cell_type": "code",
   "execution_count": 5,
   "metadata": {},
   "outputs": [],
   "source": [
    "def writeSettings(batches,particles,energy,smallWidth,interpolation):\n",
    "    initial_point = openmc.stats.Point((-smallWidth*0.49, 0, 0))\n",
    "    angle         = openmc.stats.Monodirectional([1.0,0.0,0.0])\n",
    "    energy        = openmc.stats.Discrete([1.0],[energy])\n",
    "    source = openmc.Source(space=initial_point, angle=angle, energy=energy)\n",
    "    settings = openmc.Settings()\n",
    "    settings.source = source\n",
    "    settings.inactive = 0\n",
    "    settings.seed = 1\n",
    "    settings.batches = batches\n",
    "    if interpolation:\n",
    "        settings.temperature = {'method':'interpolation'}\n",
    "    settings.run_mode = 'fixed source'\n",
    "    settings.particles = int(particles)\n",
    "    settings.export_to_xml()"
   ]
  },
  {
   "cell_type": "code",
   "execution_count": 6,
   "metadata": {},
   "outputs": [],
   "source": [
    "def writeTallies(small_box,smallWidth,largeWidth,numEFilter,numSpaceFilter):\n",
    "    tallies_file = openmc.Tallies()\n",
    "    \n",
    "    mesh = openmc.RegularMesh(mesh_id=1)\n",
    "    mesh.type = 'regular'\n",
    "    mesh.dimension = [1, numSpaceFilter]\n",
    "    mesh.lower_left  = [-largeWidth*0.5, -largeWidth*0.5]\n",
    "    mesh.upper_right = [ largeWidth*0.5,  largeWidth*0.5]\n",
    "    #mesh.lower_left  = [-smallWidth*0.5, -smallWidth*0.5]\n",
    "    #mesh.upper_right = [ smallWidth*0.5,  smallWidth*0.5]\n",
    "    mesh_filter = openmc.MeshSurfaceFilter(mesh)\n",
    "\n",
    "    thermal_leak = openmc.Tally(name='thermal leakage')\n",
    "    thermal_leak.filters = [mesh_filter, openmc.EnergyFilter(np.linspace(0.0,1.2,numEFilter))]\n",
    "    thermal_leak.scores = ['current']\n",
    "    tallies_file.append(thermal_leak)\n",
    "\n",
    "    tallies_file.export_to_xml()"
   ]
  },
  {
   "cell_type": "code",
   "execution_count": 7,
   "metadata": {},
   "outputs": [],
   "source": [
    "def removeEarlierFiles(batches):\n",
    "    if os.path.exists('./statepoint.'+str(batches)+'.h5'):\n",
    "        os.remove('./statepoint.'+str(batches)+'.h5')\n",
    "    if os.path.exists('./summary.h5'):\n",
    "        os.remove('./summary.h5')\n"
   ]
  },
  {
   "cell_type": "code",
   "execution_count": null,
   "metadata": {},
   "outputs": [],
   "source": []
  },
  {
   "cell_type": "code",
   "execution_count": null,
   "metadata": {},
   "outputs": [],
   "source": []
  },
  {
   "cell_type": "code",
   "execution_count": null,
   "metadata": {},
   "outputs": [],
   "source": []
  },
  {
   "cell_type": "code",
   "execution_count": null,
   "metadata": {},
   "outputs": [],
   "source": []
  },
  {
   "cell_type": "code",
   "execution_count": null,
   "metadata": {},
   "outputs": [],
   "source": []
  },
  {
   "cell_type": "code",
   "execution_count": null,
   "metadata": {},
   "outputs": [],
   "source": []
  },
  {
   "cell_type": "code",
   "execution_count": null,
   "metadata": {},
   "outputs": [],
   "source": []
  },
  {
   "cell_type": "code",
   "execution_count": 8,
   "metadata": {},
   "outputs": [],
   "source": [
    "\n",
    "batches = 10\n",
    "particles = 5e7\n",
    "# particles = 1e5\n",
    "energy = 1.0\n",
    "smallWidth = 1e-6\n",
    "largeWidth = 1e-5\n",
    "numEFilter = 150\n",
    "numSpaceFilter = 150"
   ]
  },
  {
   "cell_type": "code",
   "execution_count": 9,
   "metadata": {},
   "outputs": [
    {
     "name": "stdout",
     "output_type": "stream",
     "text": [
      "400-True is already prepared!\n",
      "400-Wrong-Dos-800 is already prepared!\n"
     ]
    }
   ],
   "source": [
    "runs = ['400 No Sab',\n",
    "        '400 True',\n",
    "        #'400 XS interp 373 423',\n",
    "        #'400 XS interp 350 450',\n",
    "        #'400 XS interp 300 500',\n",
    "        '400 Wrong Dos 800',      # Use 800K phonon DOS for 400K\n",
    "       ]\n",
    "\n",
    "names = [string.replace(' ','-') for string in runs]\n",
    "prepThermalScatteringData(names)\n"
   ]
  },
  {
   "cell_type": "code",
   "execution_count": null,
   "metadata": {},
   "outputs": [
    {
     "name": "stdout",
     "output_type": "stream",
     "text": [
      "400-No-Sab True\n"
     ]
    }
   ],
   "source": [
    "means = []\n",
    "muBins = []\n",
    "std_dev = []\n",
    "leakDF_vec = []\n",
    "\n",
    "for name in names:\n",
    "    \n",
    "    addSAB = True\n",
    "    interpolation = False\n",
    "    if name == 'No-Sab' or name == '400-No-Sab':\n",
    "        addSAB = False\n",
    "    else:\n",
    "        !{'cp sab_h5_files/'+name+'.h5 /Users/ameliajo/endfb71_hdf5/c_H_in_H2O.h5'}\n",
    "    if 'XS-interp' in name or '400' in name:\n",
    "        interpolation = True\n",
    "    print(name,interpolation)\n",
    "    \n",
    "    h2o,air = writeMaterials(addSAB)\n",
    "    small_box = writeGeometry(h2o,air,smallWidth,largeWidth)\n",
    "    writeSettings(batches,particles,energy,smallWidth,interpolation)\n",
    "    writeTallies(small_box,smallWidth,largeWidth,numEFilter,numSpaceFilter)\n",
    "    removeEarlierFiles(batches)\n",
    "\n",
    "    openmc.run()\n",
    "    \n",
    "    sp = openmc.StatePoint('statepoint.'+str(batches)+'.h5')\n",
    "    leakDF  = sp.get_tally(name='thermal leakage').get_pandas_dataframe()\n",
    "    leakDF_vec.append(leakDF)\n",
    "\n",
    "    runName = 'Filters__E'+str(numEFilter)+'_Space'+str(numSpaceFilter)\n",
    "\n",
    "    pathName = 'b'+str(int(batches))+'_p'+('%.0e'%particles).replace('+0','')+'_'+name.replace('-','_')\n",
    "    if not os.path.exists('Results/'+runName):\n",
    "        !{'mkdir Results/'+runName}\n",
    "\n",
    "    if not os.path.exists('Results/'+runName+'/'+pathName):\n",
    "        !{'mkdir Results/'+runName+'/'+pathName}\n",
    "        !{'cp ScatteringExperiment.ipynb *.xml statepoint.'+str(batches)+'.h5 Results/'+runName+'/'+pathName}\n"
   ]
  },
  {
   "cell_type": "code",
   "execution_count": null,
   "metadata": {},
   "outputs": [],
   "source": []
  },
  {
   "cell_type": "code",
   "execution_count": null,
   "metadata": {},
   "outputs": [],
   "source": [
    "def getArray(leakDF):\n",
    "    leakOut = leakDF.loc[leakDF[\"mesh 1\"][\"surf\"] == \"x-max out\"]\n",
    "\n",
    "    firstEntry = leakOut.loc[leakOut[\"mesh 1\"][\"x\"] == 1].loc[leakOut[\"mesh 1\"][\"y\"] == 1]\n",
    "    EVals   = list(firstEntry[\"energy low [eV]\"]) + [list(firstEntry[\"energy high [eV]\"])[-1]]\n",
    "    eMidVec = [(EVals[i]+EVals[i+1])*0.5 for i in range(len(EVals)-1)]\n",
    "\n",
    "    array = np.zeros((len(eMidVec),max(list(leakOut[\"mesh 1\"][\"y\"]))))\n",
    "    for i,eMid in enumerate(eMidVec):\n",
    "        E_specific = leakOut.loc[leakOut[\"energy low [eV]\"] < eMid]\\\n",
    "                            .loc[leakOut[\"energy high [eV]\"] > eMid]\n",
    "        if list(E_specific[\"energy low [eV]\"])[0] <= 1.0 and \\\n",
    "           list(E_specific[\"energy high [eV]\"])[0] >= 1.0: continue\n",
    "        array[i] = E_specific[\"mean\"]\n",
    "    return array,eMidVec"
   ]
  },
  {
   "cell_type": "code",
   "execution_count": null,
   "metadata": {},
   "outputs": [],
   "source": [
    "def plotArray(array,vmax=None):\n",
    "    fig, ax = plt.subplots(1,1,figsize=(8,8))\n",
    "    if vmax:\n",
    "        plt.imshow(array,cmap='hot',extent=[-1,1,-1,1],vmin=0,vmax=vmax)\n",
    "    else:\n",
    "        plt.imshow(array,cmap='hot',extent=[-1,1,-1,1])\n",
    "    plt.ylabel('Energy [eV]')\n",
    "    plt.xlabel('Space [normalized]')\n",
    "    desiredEPoints = np.linspace(0.0,1.2,13)\n",
    "    desiredEPoints_shifted = [2*val/max(desiredEPoints) - 1.0 for val in desiredEPoints]\n",
    "    desiredEPoints = ['%.1f'%val for val in desiredEPoints]\n",
    "    ax.set_yticks(desiredEPoints_shifted);\n",
    "    ax.set_yticklabels(desiredEPoints[::-1]);\n",
    "    "
   ]
  },
  {
   "cell_type": "code",
   "execution_count": null,
   "metadata": {
    "scrolled": false
   },
   "outputs": [],
   "source": [
    "leakDF0  = leakDF_vec[0]\n",
    "leakDF1  = leakDF_vec[1]\n",
    "leakDF2  = leakDF_vec[2]\n",
    "\n",
    "array0,Evals0 = getArray(leakDF0)\n",
    "array1,Evals1 = getArray(leakDF1)\n",
    "array2,Evals2 = getArray(leakDF2)\n",
    "\n",
    "# pd.set_option('display.max_rows', None)\n",
    "# pd.set_option('display.max_columns', None)\n",
    "# pd.set_option('display.width', None)\n",
    "plotArray(array0)\n",
    "plotArray(array1)\n",
    "plotArray(array2)\n",
    "\n"
   ]
  },
  {
   "cell_type": "code",
   "execution_count": null,
   "metadata": {},
   "outputs": [],
   "source": []
  },
  {
   "cell_type": "code",
   "execution_count": null,
   "metadata": {},
   "outputs": [],
   "source": [
    "leakDF0  = leakDF_vec[0]\n",
    "leakDF1  = leakDF_vec[1]\n",
    "leakDF2  = leakDF_vec[2]\n",
    "\n",
    "array0,Evals0 = getArray(leakDF0)\n",
    "array1,Evals1 = getArray(leakDF1)\n",
    "array2,Evals2 = getArray(leakDF2)\n",
    "\n",
    "error12 = np.divide(abs(array1-array2), array1, # This will only divide when\n",
    "                    out=np.zeros_like(array1),  # value in array1 != 0\n",
    "                    where=array1!=0)            # # This is giving rel. error\n",
    "error01 = np.divide(abs(array0-array1), array0, # This will only divide when\n",
    "                    out=np.zeros_like(array0),  # value in array1 != 0\n",
    "                    where=array0!=0)            # # This is giving rel. error\n",
    "error02 = np.divide(abs(array0-array2), array0, # This will only divide when\n",
    "                    out=np.zeros_like(array1),  # value in array1 != 0\n",
    "                    where=array0!=0)            # # This is giving rel. error\n",
    "plotArray(error12)\n",
    "plt.colorbar()\n",
    "\n"
   ]
  },
  {
   "cell_type": "code",
   "execution_count": null,
   "metadata": {},
   "outputs": [],
   "source": [
    "integratedError = np.trapz(np.trapz(error12,x=np.linspace(0,largeWidth,numSpaceFilter)),x=Evals1)\n",
    "print(\"Integrated Error is: \",integratedError)"
   ]
  },
  {
   "cell_type": "code",
   "execution_count": null,
   "metadata": {},
   "outputs": [],
   "source": [
    "integratedError = np.trapz(np.trapz(error01,x=np.linspace(0,largeWidth,numSpaceFilter)),x=Evals1)\n",
    "print(\"Integrated Error is: \",integratedError)"
   ]
  },
  {
   "cell_type": "code",
   "execution_count": null,
   "metadata": {},
   "outputs": [],
   "source": [
    "integratedError = np.trapz(np.trapz(error02,x=np.linspace(0,largeWidth,numSpaceFilter)),x=Evals1)\n",
    "print(\"Integrated Error is: \",integratedError)"
   ]
  },
  {
   "cell_type": "code",
   "execution_count": null,
   "metadata": {},
   "outputs": [],
   "source": []
  },
  {
   "cell_type": "code",
   "execution_count": null,
   "metadata": {},
   "outputs": [],
   "source": []
  },
  {
   "cell_type": "code",
   "execution_count": null,
   "metadata": {},
   "outputs": [],
   "source": []
  },
  {
   "cell_type": "code",
   "execution_count": null,
   "metadata": {},
   "outputs": [],
   "source": []
  },
  {
   "cell_type": "code",
   "execution_count": null,
   "metadata": {},
   "outputs": [],
   "source": [
    "# plt.plot(muBinsMid,mean)"
   ]
  },
  {
   "cell_type": "code",
   "execution_count": null,
   "metadata": {},
   "outputs": [],
   "source": []
  },
  {
   "cell_type": "code",
   "execution_count": null,
   "metadata": {},
   "outputs": [],
   "source": [
    "# scatter = sp.get_tally(name='scatter (spatial)')\n",
    "# df2 = scatter.get_pandas_dataframe()\n",
    "# scatter.mean.shape = (100,100)\n",
    "# plt.imshow(scatter.mean)"
   ]
  },
  {
   "cell_type": "code",
   "execution_count": null,
   "metadata": {},
   "outputs": [],
   "source": []
  },
  {
   "cell_type": "code",
   "execution_count": null,
   "metadata": {},
   "outputs": [],
   "source": []
  },
  {
   "cell_type": "code",
   "execution_count": null,
   "metadata": {},
   "outputs": [],
   "source": [
    "import sys\n",
    "sys.path.append('/Users/ameliajo/getPyENDFtk/ENDFtk/bin')\n",
    "import ENDFtk"
   ]
  },
  {
   "cell_type": "code",
   "execution_count": null,
   "metadata": {},
   "outputs": [],
   "source": []
  },
  {
   "cell_type": "code",
   "execution_count": null,
   "metadata": {},
   "outputs": [],
   "source": []
  },
  {
   "cell_type": "code",
   "execution_count": null,
   "metadata": {},
   "outputs": [],
   "source": []
  },
  {
   "cell_type": "code",
   "execution_count": null,
   "metadata": {},
   "outputs": [],
   "source": [
    "files = ['400/True','400/wrongDOS_800']\n",
    "# files = ['600/True','600/']\n",
    "temperature = 400.0\n",
    "for file in files:\n",
    "    leaprTape = ENDFtk.tree.Tape.from_file('LEAPR_OUTPUT/'+file+'/tape24')\n",
    "    inelastic = leaprTape.MAT(1).MF(7).MT(4).parse()\n",
    "    scatteringLaw = inelastic.scattering_law\n",
    "\n",
    "    for i in [0,10,50,100,200,300]:\n",
    "        func = scatteringLaw.functions[i]\n",
    "        alphas = func.alphas.to_list()\n",
    "        beta = func.beta\n",
    "        temperatures = func.temperatures.to_list()\n",
    "        t = [j for j in range(len(temperatures)) if abs(temperatures[j] - temperature) < 1e-5][0]\n",
    "        sab = func.thermal_scattering_values.to_list()\n",
    "        plt.plot(alphas,sab[t])\n",
    "plt.yscale('log')\n",
    "plt.xlim([-50,500])"
   ]
  },
  {
   "cell_type": "code",
   "execution_count": null,
   "metadata": {},
   "outputs": [],
   "source": []
  },
  {
   "cell_type": "code",
   "execution_count": null,
   "metadata": {},
   "outputs": [],
   "source": []
  },
  {
   "cell_type": "code",
   "execution_count": null,
   "metadata": {},
   "outputs": [],
   "source": []
  },
  {
   "cell_type": "code",
   "execution_count": null,
   "metadata": {},
   "outputs": [],
   "source": [
    "files = ['400/True','400/wrongDOS_283','400/wrongDOS_800']\n",
    "# files = ['400/True']#,'400/wrongDOS_800']\n",
    "temperature = 400.0\n",
    "Betas = []\n",
    "info = []\n",
    "for file in files:\n",
    "    leaprTape = ENDFtk.tree.Tape.from_file('LEAPR_OUTPUT/'+file+'/tape24')\n",
    "    inelastic = leaprTape.MAT(1).MF(7).MT(4).parse()\n",
    "    scatteringLaw = inelastic.scattering_law\n",
    "    SAB = np.zeros((scatteringLaw.number_betas,len(scatteringLaw.functions[0].alphas)))\n",
    "    betas = []\n",
    "    for i in range(len(scatteringLaw.functions)):\n",
    "        func = scatteringLaw.functions[i]\n",
    "        alphas = func.alphas.to_list()\n",
    "        beta = func.beta\n",
    "        betas.append(beta)\n",
    "        temperatures = func.temperatures.to_list()\n",
    "        t = [j for j in range(len(temperatures)) if abs(temperatures[j] - temperature) < 1e-5][0]\n",
    "        sab = func.thermal_scattering_values.to_list()\n",
    "        SAB[i] = sab[t]\n",
    "    Betas.append(betas)\n",
    "    SAB = np.transpose(SAB)\n",
    "    info.append(SAB)\n"
   ]
  },
  {
   "cell_type": "code",
   "execution_count": null,
   "metadata": {},
   "outputs": [],
   "source": [
    "plt.figure(figsize=(8,6))\n",
    "for ibeta in [0]:\n",
    "    plt.plot(Betas[0],info[0][ibeta])\n",
    "for ibeta in [0]:\n",
    "    plt.plot(Betas[1],info[1][ibeta],linestyle='--')\n",
    "for ibeta in [0]:\n",
    "    plt.plot(Betas[2],info[2][ibeta],linestyle='-.')\n",
    "    \n",
    "#plt.plot(alphas,sab[t])\n",
    "plt.yscale('log')\n",
    "# plt.xscale('log')\n",
    "# plt.xlim([1,15])\n",
    "# plt.xlim([-50,500])\n",
    "plt.xlim([-3,20])\n",
    "# plt.xlim([8,8.25])\n",
    "# plt.xlim([-1,20])"
   ]
  },
  {
   "cell_type": "code",
   "execution_count": null,
   "metadata": {},
   "outputs": [],
   "source": [
    "index = 80\n",
    "for ibeta in [0,50]:\n",
    "    plt.plot(Betas[0][:index],info[0][ibeta][:index])\n",
    "for ibeta in [0,50]:\n",
    "    plt.plot(Betas[1][:index],info[1][ibeta][:index],linestyle='--')\n",
    "    \n",
    "#plt.plot(alphas,sab[t])\n",
    "plt.yscale('log')\n",
    "# plt.xlim([-50,500])\n",
    "plt.xlim([-10,60])\n",
    "# plt.xlim([-1,20])"
   ]
  },
  {
   "cell_type": "code",
   "execution_count": null,
   "metadata": {},
   "outputs": [],
   "source": []
  },
  {
   "cell_type": "code",
   "execution_count": null,
   "metadata": {},
   "outputs": [],
   "source": []
  },
  {
   "cell_type": "code",
   "execution_count": null,
   "metadata": {},
   "outputs": [],
   "source": [
    "file = '400/True'\n",
    "Betas = []\n",
    "info = []\n",
    "\n",
    "leaprTape = ENDFtk.tree.Tape.from_file('LEAPR_OUTPUT/'+file+'/tape24')\n",
    "inelastic = leaprTape.MAT(1).MF(7).MT(4).parse()\n",
    "scatteringLaw = inelastic.scattering_law\n",
    "temperatures = scatteringLaw.functions[0].temperatures.to_list()\n",
    "\n",
    "for itemp in range(len(temperatures)):\n",
    "\n",
    "    betas = []\n",
    "    SAB = np.zeros((scatteringLaw.number_betas,len(scatteringLaw.functions[0].alphas)))\n",
    "\n",
    "    for i in range(len(scatteringLaw.functions)):\n",
    "        func = scatteringLaw.functions[i]\n",
    "        alphas = func.alphas.to_list()\n",
    "        beta = func.beta\n",
    "        betas.append(beta)\n",
    "        sab = func.thermal_scattering_values.to_list()\n",
    "        SAB[i] = sab[itemp]\n",
    "    Betas.append(betas)\n",
    "    SAB = np.transpose(SAB)\n",
    "    info.append(SAB)\n"
   ]
  },
  {
   "cell_type": "code",
   "execution_count": null,
   "metadata": {},
   "outputs": [],
   "source": [
    "plt.plot(Betas[0],info[0][0])\n",
    "plt.plot(Betas[0],info[4][0])\n",
    "plt.plot(Betas[0],info[8][0])\n",
    "plt.plot(Betas[0],info[17][0])\n",
    "plt.yscale('log')\n",
    "plt.xlim([-3,30])"
   ]
  },
  {
   "cell_type": "code",
   "execution_count": null,
   "metadata": {},
   "outputs": [],
   "source": []
  },
  {
   "cell_type": "code",
   "execution_count": null,
   "metadata": {},
   "outputs": [],
   "source": [
    "# currentOut = sp.get_tally(name='current')\n",
    "# df = currentOut.get_pandas_dataframe()\n",
    "\n",
    "# xMin = df.loc[df['mesh 2']['surf'] == 'x-min out' ]\n",
    "# xMax = df.loc[df['mesh 2']['surf'] == 'x-max out' ]\n",
    "# yMin = df.loc[df['mesh 2']['surf'] == 'y-min out' ]\n",
    "# yMax = df.loc[df['mesh 2']['surf'] == 'y-max out' ]\n",
    "\n",
    "# plt.plot(list(xMax[\"mean\"]))"
   ]
  },
  {
   "cell_type": "code",
   "execution_count": null,
   "metadata": {},
   "outputs": [],
   "source": []
  },
  {
   "cell_type": "code",
   "execution_count": null,
   "metadata": {},
   "outputs": [],
   "source": []
  },
  {
   "cell_type": "code",
   "execution_count": null,
   "metadata": {},
   "outputs": [],
   "source": []
  },
  {
   "cell_type": "code",
   "execution_count": null,
   "metadata": {},
   "outputs": [],
   "source": [
    "Betas[0]"
   ]
  },
  {
   "cell_type": "code",
   "execution_count": null,
   "metadata": {},
   "outputs": [],
   "source": [
    "# currentOut = sp.get_tally(name='current_leaving')\n",
    "# df = currentOut.get_pandas_dataframe()\n",
    "\n",
    "# xMin = df.loc[df['mesh 2']['surf'] == 'x-min out' ]\n",
    "# xMax = df.loc[df['mesh 2']['surf'] == 'x-max out' ]\n",
    "# yMin = df.loc[df['mesh 2']['surf'] == 'y-min out' ]\n",
    "# yMax = df.loc[df['mesh 2']['surf'] == 'y-max out' ]\n",
    "\n",
    "# plt.plot(list(xMax[\"mean\"]))"
   ]
  },
  {
   "cell_type": "code",
   "execution_count": null,
   "metadata": {},
   "outputs": [],
   "source": [
    "\n",
    "# # Instantiate a tally mesh\n",
    "# mesh = openmc.RegularMesh(mesh_id=2)\n",
    "# mesh.dimension = [100, 100]\n",
    "# mesh.lower_left  = [-largeWidth*0.5, -largeWidth*0.5]\n",
    "# mesh.upper_right = [ largeWidth*0.5,  largeWidth*0.5]\n",
    "# # mesh.x_grid = [np.linspace(-largeWidth*0.5+0.5,largeWidth*0.5-0.5,10)]\n",
    "# # mesh.y_grid = [np.linspace(-largeWidth*0.5+0.5,largeWidth*0.5-0.5,10)]\n",
    "\n",
    "\n",
    "# meshsurface_filter = openmc.MeshSurfaceFilter(mesh)\n",
    "\n",
    "\n",
    "# # Instantiate thermal, fast, and total leakage tallies\n",
    "# leak = openmc.Tally(name='current_leaving')\n",
    "# leak.filters = [meshsurface_filter]\n",
    "# leak.scores = ['current']\n",
    "# tallies_file.append(leak)"
   ]
  }
 ],
 "metadata": {
  "kernelspec": {
   "display_name": "Python 3",
   "language": "python",
   "name": "python3"
  },
  "language_info": {
   "codemirror_mode": {
    "name": "ipython",
    "version": 3
   },
   "file_extension": ".py",
   "mimetype": "text/x-python",
   "name": "python",
   "nbconvert_exporter": "python",
   "pygments_lexer": "ipython3",
   "version": "3.7.8"
  }
 },
 "nbformat": 4,
 "nbformat_minor": 4
}
