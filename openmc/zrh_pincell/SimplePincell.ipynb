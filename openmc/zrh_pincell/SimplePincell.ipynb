{
 "cells": [
  {
   "cell_type": "code",
   "execution_count": 19,
   "metadata": {},
   "outputs": [],
   "source": [
    "import openmc\n",
    "import urllib\n",
    "import matplotlib.pyplot as plt\n",
    "import numpy as np\n",
    "from scipy.interpolate import interp1d\n",
    "import os"
   ]
  },
  {
   "cell_type": "code",
   "execution_count": null,
   "metadata": {},
   "outputs": [],
   "source": []
  },
  {
   "cell_type": "code",
   "execution_count": null,
   "metadata": {},
   "outputs": [],
   "source": []
  },
  {
   "cell_type": "code",
   "execution_count": null,
   "metadata": {},
   "outputs": [],
   "source": []
  },
  {
   "cell_type": "code",
   "execution_count": 3,
   "metadata": {},
   "outputs": [],
   "source": [
    "url = 'https://t2.lanl.gov/nis/data/data/ENDFB-VII.1-neutron/H/1'\n",
    "filename, headers = urllib.request.urlretrieve(url,'h1.endf')"
   ]
  },
  {
   "cell_type": "code",
   "execution_count": 4,
   "metadata": {},
   "outputs": [
    {
     "name": "stdout",
     "output_type": "stream",
     "text": [
      "\n",
      " njoy 2016.60  05Aug20                                       10/21/20 14:58:02\n",
      " *****************************************************************************\n",
      "\n",
      " reconr...                                                                0.0s\n",
      "\n",
      " broadr...                                                                0.0s\n",
      "\n",
      " thermr...                                                                0.2s\n",
      "\n",
      " wrote thermal data for temp = 2.9360E+02                                 5.4s\n",
      "\n",
      " thermr...                                                                5.4s\n",
      "\n",
      " ***warning***maximum value of beta limits the allowed energy transfer\n",
      " the sct approx. will be used for transfers larger than  1.973 ev.\n",
      "\n",
      " wrote thermal data for temp = 2.9360E+02                                65.5s\n",
      "\n",
      " acer...                                                                 65.6s\n",
      "                                                                         72.2s\n",
      " *****************************************************************************\n"
     ]
    }
   ],
   "source": [
    "h_in_zrh = openmc.data.ThermalScattering.from_njoy('h1.endf','endf_ZrH/HinZrH/tape20',temperatures=[293.6], stdout=True, njoy_exec='/Users/ameliajo/NJOY2016/bin/njoy')"
   ]
  },
  {
   "cell_type": "code",
   "execution_count": 5,
   "metadata": {},
   "outputs": [],
   "source": [
    "if os.path.exists(\"c_H_in_ZrH.h5\"):\n",
    "    os.remove(\"c_H_in_ZrH.h5\")\n",
    "h_in_zrh.export_to_hdf5('c_H_in_ZrH.h5')"
   ]
  },
  {
   "cell_type": "code",
   "execution_count": 6,
   "metadata": {},
   "outputs": [],
   "source": [
    "!{'cp c_H_in_ZrH.h5 /Users/ameliajo/endfb71_hdf5/'}"
   ]
  },
  {
   "cell_type": "code",
   "execution_count": null,
   "metadata": {},
   "outputs": [],
   "source": []
  },
  {
   "cell_type": "markdown",
   "metadata": {},
   "source": [
    "# Materials"
   ]
  },
  {
   "cell_type": "code",
   "execution_count": 7,
   "metadata": {},
   "outputs": [],
   "source": [
    "uo2 = openmc.Material(1, \"uo2\")\n",
    "uo2.add_nuclide('U235', 0.04)\n",
    "uo2.add_nuclide('U238', 0.96)\n",
    "uo2.add_nuclide('O16' , 2.00)\n",
    "uo2.set_density('g/cm3', 10.0)\n",
    "\n",
    "zrh = openmc.Material(2, \"zrh\")\n",
    "zrh.add_element('Zr', 1.0)\n",
    "zrh.add_element('H' , 1.0)\n",
    "zrh.set_density('g/cm3', 5.8)\n",
    "zrh.add_s_alpha_beta('c_H_in_ZrH')\n"
   ]
  },
  {
   "cell_type": "code",
   "execution_count": 8,
   "metadata": {},
   "outputs": [],
   "source": [
    "mats = openmc.Materials([uo2, zrh])\n",
    "mats.export_to_xml()\n"
   ]
  },
  {
   "cell_type": "markdown",
   "metadata": {},
   "source": [
    "# Geometry"
   ]
  },
  {
   "cell_type": "code",
   "execution_count": 14,
   "metadata": {},
   "outputs": [
    {
     "name": "stderr",
     "output_type": "stream",
     "text": [
      "//anaconda3/envs/openmc-env/lib/python3.8/site-packages/openmc/mixin.py:68: IDWarning: Another Cell instance already exists with id=1.\n",
      "  warn(msg, IDWarning)\n"
     ]
    }
   ],
   "source": [
    "pitch = 1.26\n",
    "left    = openmc.XPlane(x0=-pitch/2, boundary_type='reflective')\n",
    "right   = openmc.XPlane(x0= pitch/2, boundary_type='reflective')\n",
    "bottom  = openmc.YPlane(y0=-pitch/2, boundary_type='reflective')\n",
    "top     = openmc.YPlane(y0= pitch/2, boundary_type='reflective')\n",
    "fuel_or = openmc.ZCylinder(r=0.3)\n",
    "\n",
    "fuel_region = -fuel_or\n",
    "mod_region  = +left & -right & +bottom & -top & +fuel_or\n",
    "\n",
    "fuel = openmc.Cell(1, 'fuel')\n",
    "fuel.fill = uo2\n",
    "fuel.region = fuel_region\n",
    "\n",
    "moderator = openmc.Cell(2, 'moderator')\n",
    "moderator.fill = zrh\n",
    "moderator.region = mod_region"
   ]
  },
  {
   "cell_type": "code",
   "execution_count": 15,
   "metadata": {},
   "outputs": [],
   "source": [
    "root = openmc.Universe(cells=(fuel, moderator))\n",
    "geom = openmc.Geometry(root)\n",
    "geom.export_to_xml()"
   ]
  },
  {
   "cell_type": "markdown",
   "metadata": {},
   "source": [
    "# Settings"
   ]
  },
  {
   "cell_type": "code",
   "execution_count": 16,
   "metadata": {},
   "outputs": [],
   "source": [
    "point = openmc.stats.Point((0, 0, 0))\n",
    "src = openmc.Source(space=point)"
   ]
  },
  {
   "cell_type": "code",
   "execution_count": 17,
   "metadata": {},
   "outputs": [],
   "source": [
    "settings = openmc.Settings()\n",
    "settings.source = src\n",
    "settings.batches = 100\n",
    "settings.inactive = 10\n",
    "settings.particles = 1000\n",
    "settings.export_to_xml()\n"
   ]
  },
  {
   "cell_type": "markdown",
   "metadata": {},
   "source": [
    "# Run"
   ]
  },
  {
   "cell_type": "code",
   "execution_count": 18,
   "metadata": {},
   "outputs": [
    {
     "name": "stdout",
     "output_type": "stream",
     "text": [
      "                                %%%%%%%%%%%%%%%\n",
      "                           %%%%%%%%%%%%%%%%%%%%%%%%\n",
      "                        %%%%%%%%%%%%%%%%%%%%%%%%%%%%%%\n",
      "                      %%%%%%%%%%%%%%%%%%%%%%%%%%%%%%%%%%\n",
      "                    %%%%%%%%%%%%%%%%%%%%%%%%%%%%%%%%%%%%%%\n",
      "                   %%%%%%%%%%%%%%%%%%%%%%%%%%%%%%%%%%%%%%%%\n",
      "                                    %%%%%%%%%%%%%%%%%%%%%%%%\n",
      "                                     %%%%%%%%%%%%%%%%%%%%%%%%\n",
      "                 ###############      %%%%%%%%%%%%%%%%%%%%%%%%\n",
      "                ##################     %%%%%%%%%%%%%%%%%%%%%%%\n",
      "                ###################     %%%%%%%%%%%%%%%%%%%%%%%\n",
      "                ####################     %%%%%%%%%%%%%%%%%%%%%%\n",
      "                #####################     %%%%%%%%%%%%%%%%%%%%%\n",
      "                ######################     %%%%%%%%%%%%%%%%%%%%\n",
      "                #######################     %%%%%%%%%%%%%%%%%%\n",
      "                 #######################     %%%%%%%%%%%%%%%%%\n",
      "                 ######################     %%%%%%%%%%%%%%%%%\n",
      "                  ####################     %%%%%%%%%%%%%%%%%\n",
      "                    #################     %%%%%%%%%%%%%%%%%\n",
      "                     ###############     %%%%%%%%%%%%%%%%\n",
      "                       ############     %%%%%%%%%%%%%%%\n",
      "                          ########     %%%%%%%%%%%%%%\n",
      "                                      %%%%%%%%%%%\n",
      "\n",
      "                   | The OpenMC Monte Carlo Code\n",
      "         Copyright | 2011-2020 MIT and OpenMC contributors\n",
      "           License | https://docs.openmc.org/en/latest/license.html\n",
      "           Version | 0.12.0\n",
      "         Date/Time | 2020-10-21 15:00:02\n",
      "    OpenMP Threads | 8\n",
      "\n",
      " Reading settings XML file...\n",
      " Reading cross sections XML file...\n",
      " Reading materials XML file...\n",
      " Reading geometry XML file...\n",
      " Reading U235 from /Users/ameliajo/endfb71_hdf5/U235.h5\n",
      " Reading U238 from /Users/ameliajo/endfb71_hdf5/U238.h5\n",
      " Reading O16 from /Users/ameliajo/endfb71_hdf5/O16.h5\n",
      " Reading Zr90 from /Users/ameliajo/endfb71_hdf5/Zr90.h5\n",
      " Reading Zr91 from /Users/ameliajo/endfb71_hdf5/Zr91.h5\n",
      " Reading Zr92 from /Users/ameliajo/endfb71_hdf5/Zr92.h5\n",
      " Reading Zr94 from /Users/ameliajo/endfb71_hdf5/Zr94.h5\n",
      " Reading Zr96 from /Users/ameliajo/endfb71_hdf5/Zr96.h5\n",
      " Reading H1 from /Users/ameliajo/endfb71_hdf5/H1.h5\n",
      " Reading H2 from /Users/ameliajo/endfb71_hdf5/H2.h5\n",
      " Reading c_H_in_ZrH from /Users/ameliajo/endfb71_hdf5/c_H_in_ZrH.h5\n",
      " Minimum neutron data temperature: 294.000000 K\n",
      " Maximum neutron data temperature: 294.000000 K\n",
      " Preparing distributed cell instances...\n",
      " Writing summary.h5 file...\n",
      " Maximum neutron transport energy: 20000000.000000 eV for U235\n",
      " Initializing source particles...\n",
      "\n",
      " ====================>     K EIGENVALUE SIMULATION     <====================\n",
      "\n",
      "  Bat./Gen.      k            Average k\n",
      "  =========   ========   ====================\n",
      "        1/1    1.45089\n",
      "        2/1    1.33553\n",
      "        3/1    1.33052\n",
      "        4/1    1.36117\n",
      "        5/1    1.32661\n",
      "        6/1    1.32960\n",
      "        7/1    1.34747\n",
      "        8/1    1.33372\n",
      "        9/1    1.36358\n",
      "       10/1    1.32449\n",
      "       11/1    1.35582\n",
      "       12/1    1.31169    1.33376 +/- 0.02206\n",
      "       13/1    1.46084    1.37612 +/- 0.04424\n",
      "       14/1    1.35117    1.36988 +/- 0.03189\n",
      "       15/1    1.36618    1.36914 +/- 0.02472\n",
      "       16/1    1.31626    1.36033 +/- 0.02202\n",
      "       17/1    1.25833    1.34576 +/- 0.02364\n",
      "       18/1    1.40763    1.35349 +/- 0.02188\n",
      "       19/1    1.38398    1.35688 +/- 0.01959\n",
      "       20/1    1.30901    1.35209 +/- 0.01817\n",
      "       21/1    1.37961    1.35459 +/- 0.01662\n",
      "       22/1    1.41498    1.35962 +/- 0.01599\n",
      "       23/1    1.30705    1.35558 +/- 0.01525\n",
      "       24/1    1.30764    1.35216 +/- 0.01453\n",
      "       25/1    1.40775    1.35586 +/- 0.01402\n",
      "       26/1    1.38099    1.35743 +/- 0.01321\n",
      "       27/1    1.38251    1.35891 +/- 0.01250\n",
      "       28/1    1.29355    1.35528 +/- 0.01233\n",
      "       29/1    1.30284    1.35252 +/- 0.01199\n",
      "       30/1    1.41363    1.35557 +/- 0.01177\n",
      "       31/1    1.45266    1.36020 +/- 0.01212\n",
      "       32/1    1.42419    1.36310 +/- 0.01191\n",
      "       33/1    1.37588    1.36366 +/- 0.01140\n",
      "       34/1    1.39395    1.36492 +/- 0.01098\n",
      "       35/1    1.31624    1.36297 +/- 0.01071\n",
      "       36/1    1.32798    1.36163 +/- 0.01038\n",
      "       37/1    1.37892    1.36227 +/- 0.01001\n",
      "       38/1    1.41203    1.36405 +/- 0.00981\n",
      "       39/1    1.37209    1.36432 +/- 0.00947\n",
      "       40/1    1.33276    1.36327 +/- 0.00921\n",
      "       41/1    1.40486    1.36461 +/- 0.00901\n",
      "       42/1    1.32384    1.36334 +/- 0.00881\n",
      "       43/1    1.35264    1.36301 +/- 0.00855\n",
      "       44/1    1.33201    1.36210 +/- 0.00834\n",
      "       45/1    1.39788    1.36313 +/- 0.00816\n",
      "       46/1    1.29922    1.36135 +/- 0.00813\n",
      "       47/1    1.37361    1.36168 +/- 0.00791\n",
      "       48/1    1.25779    1.35895 +/- 0.00817\n",
      "       49/1    1.31946    1.35794 +/- 0.00803\n",
      "       50/1    1.33508    1.35736 +/- 0.00784\n",
      "       51/1    1.45922    1.35985 +/- 0.00804\n",
      "       52/1    1.35839    1.35981 +/- 0.00785\n",
      "       53/1    1.32350    1.35897 +/- 0.00771\n",
      "       54/1    1.32253    1.35814 +/- 0.00758\n",
      "       55/1    1.36659    1.35833 +/- 0.00741\n",
      "       56/1    1.43372    1.35997 +/- 0.00743\n",
      "       57/1    1.37301    1.36024 +/- 0.00728\n",
      "       58/1    1.37398    1.36053 +/- 0.00713\n",
      "       59/1    1.32464    1.35980 +/- 0.00702\n",
      "       60/1    1.32144    1.35903 +/- 0.00692\n",
      "       61/1    1.31335    1.35814 +/- 0.00684\n",
      "       62/1    1.36005    1.35817 +/- 0.00671\n",
      "       63/1    1.41693    1.35928 +/- 0.00668\n",
      "       64/1    1.43709    1.36072 +/- 0.00671\n",
      "       65/1    1.40248    1.36148 +/- 0.00663\n",
      "       66/1    1.26361    1.35973 +/- 0.00674\n",
      "       67/1    1.36994    1.35991 +/- 0.00662\n",
      "       68/1    1.39119    1.36045 +/- 0.00653\n",
      "       69/1    1.34805    1.36024 +/- 0.00642\n",
      "       70/1    1.41982    1.36123 +/- 0.00639\n",
      "       71/1    1.33782    1.36085 +/- 0.00630\n",
      "       72/1    1.29971    1.35986 +/- 0.00627\n",
      "       73/1    1.33372    1.35945 +/- 0.00619\n",
      "       74/1    1.29039    1.35837 +/- 0.00618\n",
      "       75/1    1.34789    1.35821 +/- 0.00609\n",
      "       76/1    1.33505    1.35786 +/- 0.00601\n",
      "       77/1    1.43960    1.35908 +/- 0.00604\n",
      "       78/1    1.39737    1.35964 +/- 0.00598\n",
      "       79/1    1.31399    1.35898 +/- 0.00593\n",
      "       80/1    1.33275    1.35861 +/- 0.00585\n",
      "       81/1    1.46718    1.36013 +/- 0.00597\n",
      "       82/1    1.42958    1.36110 +/- 0.00597\n",
      "       83/1    1.46809    1.36256 +/- 0.00606\n",
      "       84/1    1.37860    1.36278 +/- 0.00598\n",
      "       85/1    1.35293    1.36265 +/- 0.00591\n",
      "       86/1    1.44095    1.36368 +/- 0.00592\n",
      "       87/1    1.35385    1.36355 +/- 0.00584\n",
      "       88/1    1.33888    1.36324 +/- 0.00578\n",
      "       89/1    1.35578    1.36314 +/- 0.00570\n",
      "       90/1    1.32629    1.36268 +/- 0.00565\n",
      "       91/1    1.37167    1.36279 +/- 0.00558\n",
      "       92/1    1.29925    1.36202 +/- 0.00557\n",
      "       93/1    1.43550    1.36290 +/- 0.00557\n",
      "       94/1    1.37950    1.36310 +/- 0.00551\n",
      "       95/1    1.37298    1.36322 +/- 0.00544\n",
      "       96/1    1.42756    1.36396 +/- 0.00543\n",
      "       97/1    1.34636    1.36376 +/- 0.00537\n",
      "       98/1    1.38966    1.36406 +/- 0.00532\n",
      "       99/1    1.36766    1.36410 +/- 0.00526\n",
      "      100/1    1.45310    1.36509 +/- 0.00529\n",
      " Creating state point statepoint.100.h5...\n",
      "\n",
      " =======================>     TIMING STATISTICS     <=======================\n",
      "\n",
      " Total time for initialization     = 3.1901e+00 seconds\n",
      "   Reading cross sections          = 3.1639e+00 seconds\n",
      " Total time in simulation          = 1.5813e+00 seconds\n",
      "   Time in transport only          = 1.5613e+00 seconds\n",
      "   Time in inactive batches        = 1.3529e-01 seconds\n",
      "   Time in active batches          = 1.4460e+00 seconds\n",
      "   Time synchronizing fission bank = 7.6013e-03 seconds\n",
      "     Sampling source sites         = 6.9334e-03 seconds\n",
      "     SEND/RECV source sites        = 6.1414e-04 seconds\n",
      "   Time accumulating tallies       = 5.9748e-05 seconds\n",
      " Total time for finalization       = 4.1700e-07 seconds\n",
      " Total time elapsed                = 4.7787e+00 seconds\n",
      " Calculation Rate (inactive)       = 73916.3 particles/second\n",
      " Calculation Rate (active)         = 62240.7 particles/second\n",
      "\n",
      " ============================>     RESULTS     <============================\n",
      "\n",
      " k-effective (Collision)     = 1.36284 +/- 0.00364\n",
      " k-effective (Track-length)  = 1.36509 +/- 0.00529\n",
      " k-effective (Absorption)    = 1.36013 +/- 0.00349\n",
      " Combined k-effective        = 1.36160 +/- 0.00289\n",
      " Leakage Fraction            = 0.00000 +/- 0.00000\n",
      "\n"
     ]
    }
   ],
   "source": [
    "openmc.run()"
   ]
  },
  {
   "cell_type": "code",
   "execution_count": null,
   "metadata": {},
   "outputs": [],
   "source": []
  },
  {
   "cell_type": "code",
   "execution_count": null,
   "metadata": {},
   "outputs": [],
   "source": []
  },
  {
   "cell_type": "code",
   "execution_count": null,
   "metadata": {},
   "outputs": [],
   "source": []
  },
  {
   "cell_type": "code",
   "execution_count": null,
   "metadata": {},
   "outputs": [],
   "source": []
  },
  {
   "cell_type": "code",
   "execution_count": null,
   "metadata": {},
   "outputs": [],
   "source": []
  },
  {
   "cell_type": "code",
   "execution_count": null,
   "metadata": {},
   "outputs": [],
   "source": []
  },
  {
   "cell_type": "code",
   "execution_count": null,
   "metadata": {},
   "outputs": [],
   "source": []
  },
  {
   "cell_type": "code",
   "execution_count": null,
   "metadata": {},
   "outputs": [],
   "source": []
  },
  {
   "cell_type": "code",
   "execution_count": null,
   "metadata": {},
   "outputs": [],
   "source": []
  },
  {
   "cell_type": "code",
   "execution_count": null,
   "metadata": {},
   "outputs": [],
   "source": [
    "with open('my_ZrH/ZrH_projected_dos.dat','r') as f:\n",
    "    lines = f.readlines()[1:]\n",
    "    E,dos1,dos2,dos3,dos4 = [],[],[],[],[]\n",
    "    for line in lines:\n",
    "        E.append(float(line.split()[0])*0.00413566553853809)\n",
    "        dos1.append(float(line.split()[1]))\n",
    "        dos2.append(float(line.split()[2]))\n",
    "        dos3.append(float(line.split()[3]))\n",
    "        dos4.append(float(line.split()[4]))\n",
    "        \n",
    "    #plt.plot(E,dos1,label='1')\n",
    "    #plt.plot(E,dos2,label='2')\n",
    "    #plt.plot(E,dos3,label='3')\n",
    "    #plt.plot(E,dos4,label='4')\n",
    "    #plt.legend(loc='best')\n",
    "\n",
    "    dos_Zr = [(dos1[i]+dos2[i])*0.5 for i in range(len(E)) if E[i] > 0]\n",
    "    dos_H  = [(dos3[i]+dos4[i])*0.5 for i in range(len(E)) if E[i] > 0]\n",
    "    E = [Eval for Eval in E if Eval > 0]\n",
    "    #plt.plot(E,dos_Zr)\n",
    "    #plt.plot(E,dos_H )\n",
    "    \n",
    "    E_uniform = [E[0]+(E[1]-E[0])*i for i in range(len(E)-1)]\n",
    "    f_Zr = interp1d(E,dos_Zr)\n",
    "    dos_Zr = f_Zr(E_uniform)\n",
    "    f_H  = interp1d(E,dos_H)\n",
    "    dos_H  = f_H(E_uniform)\n",
    "    E = E_uniform[:]\n",
    "    plt.plot(E,dos_Zr)\n",
    "    plt.plot(E,dos_H)\n",
    "    \n",
    "    print('rho spacing = ',E[1]-E[0])\n",
    "    print('rho length  = ',len(E))\n",
    "    "
   ]
  },
  {
   "cell_type": "code",
   "execution_count": null,
   "metadata": {},
   "outputs": [],
   "source": []
  },
  {
   "cell_type": "code",
   "execution_count": 32,
   "metadata": {},
   "outputs": [
    {
     "name": "stdout",
     "output_type": "stream",
     "text": [
      "rho spacing =  0.0009425823001405723\n",
      "rho length  =  183\n"
     ]
    },
    {
     "data": {
      "image/png": "[encoded data removed]",
      "text/plain": [
       "<Figure size 432x288 with 1 Axes>"
      ]
     },
     "metadata": {
      "needs_background": "light"
     },
     "output_type": "display_data"
    }
   ],
   "source": [
    "with open('my_ZrH2/ZrH2_projected_dos.dat','r') as f:\n",
    "    lines = f.readlines()[1:]\n",
    "    E,dos1,dos2,dos3,dos4,dos5,dos6 = [],[],[],[],[],[],[]\n",
    "    for line in lines:\n",
    "        E.append(float(line.split()[0])*0.00413566553853809)\n",
    "        dos1.append(float(line.split()[1]))\n",
    "        dos2.append(float(line.split()[2]))\n",
    "        dos3.append(float(line.split()[3]))\n",
    "        dos4.append(float(line.split()[4]))\n",
    "        dos5.append(float(line.split()[5]))\n",
    "        dos6.append(float(line.split()[6]))\n",
    "        \n",
    "    #plt.plot(E,dos1,label='1')\n",
    "    #plt.plot(E,dos2,label='2')\n",
    "    #plt.plot(E,dos3,label='3')\n",
    "    #plt.plot(E,dos4,label='4')\n",
    "    #plt.plot(E,dos4,label='5')\n",
    "    #plt.plot(E,dos4,label='6')\n",
    "    #plt.legend(loc='best')\n",
    "\n",
    "    dos_Zr = [(dos1[i]+dos2[i])*0.5 for i in range(len(E)) if E[i] > 0]\n",
    "    dos_H  = [(dos3[i]+dos4[i]+dos5[i]+dos6[i])*0.25 for i in range(len(E)) if E[i] > 0]\n",
    "    E = [Eval for Eval in E if Eval > 0]\n",
    "    #plt.plot(E,dos_Zr)\n",
    "    #plt.plot(E,dos_H )\n",
    "    \n",
    "    E_uniform = [E[0]+(E[1]-E[0])*i for i in range(len(E)-1)]\n",
    "    f_Zr = interp1d(E,dos_Zr)\n",
    "    dos_Zr = f_Zr(E_uniform)\n",
    "    f_H  = interp1d(E,dos_H)\n",
    "    dos_H  = f_H(E_uniform)\n",
    "    E = E_uniform[:]\n",
    "    plt.plot(E,dos_Zr)\n",
    "    plt.plot(E,dos_H)\n",
    "    \n",
    "    print('rho spacing = ',E[1]-E[0])\n",
    "    print('rho length  = ',len(E))\n",
    "    "
   ]
  },
  {
   "cell_type": "code",
   "execution_count": 34,
   "metadata": {},
   "outputs": [
    {
     "data": {
      "text/plain": [
       "array([1.69545700e-04, 2.73732300e-03, 7.25456540e-03, 1.52394804e-02,\n",
       "       2.68568543e-02, 3.67395600e-02, 4.90932333e-02, 6.55192271e-02,\n",
       "       8.40711245e-02, 1.07539173e-01, 1.40209909e-01, 1.89515018e-01,\n",
       "       2.91430207e-01, 4.89798143e-01, 7.83171396e-01, 5.69808921e-01,\n",
       "       5.69563593e-01, 5.37109175e-01, 5.65627331e-01, 6.24703755e-01,\n",
       "       7.43148358e-01, 9.83799269e-01, 8.44321291e-01, 6.84695111e-01,\n",
       "       5.19948282e-01, 5.17471796e-01, 4.19275603e-01, 4.23530985e-01,\n",
       "       8.22663911e-01, 8.48415723e-01, 8.60582440e-01, 3.27324790e-01,\n",
       "       9.59309941e-02, 9.79564278e-03, 4.29793267e-11, 0.00000000e+00,\n",
       "       0.00000000e+00, 0.00000000e+00, 0.00000000e+00, 0.00000000e+00,\n",
       "       0.00000000e+00, 0.00000000e+00, 0.00000000e+00, 0.00000000e+00,\n",
       "       0.00000000e+00, 0.00000000e+00, 0.00000000e+00, 0.00000000e+00,\n",
       "       0.00000000e+00, 0.00000000e+00, 0.00000000e+00, 0.00000000e+00,\n",
       "       0.00000000e+00, 0.00000000e+00, 0.00000000e+00, 0.00000000e+00,\n",
       "       0.00000000e+00, 0.00000000e+00, 0.00000000e+00, 0.00000000e+00,\n",
       "       0.00000000e+00, 0.00000000e+00, 0.00000000e+00, 0.00000000e+00,\n",
       "       0.00000000e+00, 0.00000000e+00, 0.00000000e+00, 0.00000000e+00,\n",
       "       0.00000000e+00, 0.00000000e+00, 0.00000000e+00, 0.00000000e+00,\n",
       "       0.00000000e+00, 0.00000000e+00, 0.00000000e+00, 0.00000000e+00,\n",
       "       0.00000000e+00, 0.00000000e+00, 0.00000000e+00, 0.00000000e+00,\n",
       "       0.00000000e+00, 0.00000000e+00, 0.00000000e+00, 0.00000000e+00,\n",
       "       0.00000000e+00, 0.00000000e+00, 0.00000000e+00, 0.00000000e+00,\n",
       "       0.00000000e+00, 0.00000000e+00, 0.00000000e+00, 0.00000000e+00,\n",
       "       0.00000000e+00, 0.00000000e+00, 0.00000000e+00, 0.00000000e+00,\n",
       "       0.00000000e+00, 0.00000000e+00, 0.00000000e+00, 0.00000000e+00,\n",
       "       0.00000000e+00, 0.00000000e+00, 0.00000000e+00, 0.00000000e+00,\n",
       "       0.00000000e+00, 0.00000000e+00, 0.00000000e+00, 0.00000000e+00,\n",
       "       0.00000000e+00, 0.00000000e+00, 0.00000000e+00, 0.00000000e+00,\n",
       "       0.00000000e+00, 0.00000000e+00, 0.00000000e+00, 0.00000000e+00,\n",
       "       0.00000000e+00, 0.00000000e+00, 0.00000000e+00, 0.00000000e+00,\n",
       "       0.00000000e+00, 0.00000000e+00, 0.00000000e+00, 0.00000000e+00,\n",
       "       0.00000000e+00, 0.00000000e+00, 0.00000000e+00, 0.00000000e+00,\n",
       "       0.00000000e+00, 0.00000000e+00, 4.55358592e-04, 1.60935798e-03,\n",
       "       3.01251438e-03, 4.20768408e-03, 4.14047260e-03, 4.34307890e-03,\n",
       "       5.64573938e-03, 8.05455616e-03, 7.72411561e-03, 7.11556711e-03,\n",
       "       6.08284642e-03, 5.70222481e-03, 7.46333367e-03, 5.84428503e-03,\n",
       "       4.41817833e-03, 2.66038123e-03, 1.90147901e-03, 1.41142841e-03,\n",
       "       9.33678309e-04, 1.45383849e-03, 1.56400560e-03, 1.69708360e-03,\n",
       "       1.82135070e-03, 9.71372117e-04, 1.38050509e-03, 6.16297015e-04,\n",
       "       2.96402507e-04, 1.26053704e-04, 1.76766999e-04, 3.08819897e-04,\n",
       "       3.86927198e-04, 5.13334397e-04, 3.64536603e-04, 2.13515003e-04,\n",
       "       1.30258902e-04, 8.03133011e-05, 3.99296009e-05, 8.75974606e-13,\n",
       "       0.00000000e+00, 0.00000000e+00, 0.00000000e+00, 0.00000000e+00,\n",
       "       0.00000000e+00, 0.00000000e+00, 0.00000000e+00, 0.00000000e+00,\n",
       "       0.00000000e+00, 0.00000000e+00, 0.00000000e+00, 0.00000000e+00,\n",
       "       0.00000000e+00, 0.00000000e+00, 0.00000000e+00])"
      ]
     },
     "execution_count": 34,
     "metadata": {},
     "output_type": "execute_result"
    }
   ],
   "source": [
    "dos_Zr"
   ]
  },
  {
   "cell_type": "code",
   "execution_count": null,
   "metadata": {},
   "outputs": [],
   "source": []
  },
  {
   "cell_type": "code",
   "execution_count": null,
   "metadata": {},
   "outputs": [],
   "source": []
  },
  {
   "cell_type": "code",
   "execution_count": null,
   "metadata": {},
   "outputs": [],
   "source": []
  },
  {
   "cell_type": "code",
   "execution_count": null,
   "metadata": {},
   "outputs": [],
   "source": []
  },
  {
   "cell_type": "code",
   "execution_count": null,
   "metadata": {},
   "outputs": [],
   "source": []
  }
 ],
 "metadata": {
  "kernelspec": {
   "display_name": "Python 3",
   "language": "python",
   "name": "python3"
  },
  "language_info": {
   "codemirror_mode": {
    "name": "ipython",
    "version": 3
   },
   "file_extension": ".py",
   "mimetype": "text/x-python",
   "name": "python",
   "nbconvert_exporter": "python",
   "pygments_lexer": "ipython3",
   "version": "3.8.6"
  }
 },
 "nbformat": 4,
 "nbformat_minor": 2
}
